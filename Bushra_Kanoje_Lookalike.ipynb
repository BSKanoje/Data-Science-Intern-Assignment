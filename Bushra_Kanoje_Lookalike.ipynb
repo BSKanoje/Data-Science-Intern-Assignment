{
 "cells": [
  {
   "cell_type": "markdown",
   "id": "398bd32d",
   "metadata": {},
   "source": [
    "# Task 2: Lookalike Model"
   ]
  },
  {
   "cell_type": "markdown",
   "id": "841559a7",
   "metadata": {},
   "source": [
    "### Step 1: Load Required Libraries"
   ]
  },
  {
   "cell_type": "code",
   "execution_count": 1,
   "id": "60bb996a",
   "metadata": {},
   "outputs": [],
   "source": [
    "import pandas as pd\n",
    "import numpy as np\n",
    "from sklearn.preprocessing import StandardScaler\n",
    "from sklearn.metrics.pairwise import cosine_similarity"
   ]
  },
  {
   "cell_type": "markdown",
   "id": "c03fd2e9",
   "metadata": {},
   "source": [
    "### Step 2: Load the Dataset"
   ]
  },
  {
   "cell_type": "code",
   "execution_count": 2,
   "id": "044969ce",
   "metadata": {},
   "outputs": [
    {
     "name": "stdout",
     "output_type": "stream",
     "text": [
      "  TransactionID CustomerID ProductID      TransactionDate  Quantity  \\\n",
      "0        T00001      C0199      P067  2024-08-25 12:38:23         1   \n",
      "1        T00112      C0146      P067  2024-05-27 22:23:54         1   \n",
      "2        T00166      C0127      P067  2024-04-25 07:38:55         1   \n",
      "3        T00272      C0087      P067  2024-03-26 22:55:37         2   \n",
      "4        T00363      C0070      P067  2024-03-21 15:10:10         3   \n",
      "\n",
      "   TotalValue  Price_x     CustomerName         Region  SignupDate  \\\n",
      "0      300.68   300.68   Andrea Jenkins         Europe  2022-12-03   \n",
      "1      300.68   300.68  Brittany Harvey           Asia  2024-09-04   \n",
      "2      300.68   300.68  Kathryn Stevens         Europe  2024-04-04   \n",
      "3      601.36   300.68  Travis Campbell  South America  2024-04-11   \n",
      "4      902.04   300.68    Timothy Perez         Europe  2022-03-15   \n",
      "\n",
      "                       ProductName     Category  Price_y  \n",
      "0  ComfortLiving Bluetooth Speaker  Electronics   300.68  \n",
      "1  ComfortLiving Bluetooth Speaker  Electronics   300.68  \n",
      "2  ComfortLiving Bluetooth Speaker  Electronics   300.68  \n",
      "3  ComfortLiving Bluetooth Speaker  Electronics   300.68  \n",
      "4  ComfortLiving Bluetooth Speaker  Electronics   300.68  \n"
     ]
    }
   ],
   "source": [
    "# Load datasets\n",
    "customers = pd.read_csv('Customers.csv')\n",
    "products = pd.read_csv('Products.csv')\n",
    "transactions = pd.read_csv('Transactions.csv')\n",
    "\n",
    "# Merge the datasets\n",
    "merged_data = pd.merge(transactions, customers, on='CustomerID')\n",
    "merged_data = pd.merge(merged_data, products, on='ProductID')\n",
    "\n",
    "# Preview the merged dataset\n",
    "print(merged_data.head())"
   ]
  },
  {
   "cell_type": "markdown",
   "id": "4c194b26",
   "metadata": {},
   "source": [
    "### Step 3: Prepare Data for the Lookalike Model\n",
    " "
   ]
  },
  {
   "cell_type": "code",
   "execution_count": 3,
   "id": "a6495704",
   "metadata": {},
   "outputs": [
    {
     "name": "stdout",
     "output_type": "stream",
     "text": [
      "  CustomerID  TotalSpent  AvgSpent  TransactionCount  UniqueCategories\n",
      "0      C0001   -0.061701 -0.070263         -0.011458          0.160540\n",
      "1      C0002   -0.877744 -0.934933         -0.467494         -0.904377\n",
      "2      C0003   -0.405857 -0.026271         -0.467494          0.160540\n",
      "3      C0004    1.032547 -0.076769          1.356650          0.160540\n",
      "4      C0005   -0.783929 -0.040028         -0.923530         -0.904377\n"
     ]
    }
   ],
   "source": [
    "# Aggregate customer-level features\n",
    "customer_features = merged_data.groupby('CustomerID').agg({\n",
    "    'TotalValue': ['sum', 'mean'],  # Total and average spending\n",
    "    'TransactionID': 'count',       # Number of transactions\n",
    "    'Category': 'nunique'           # Number of unique product categories\n",
    "}).reset_index()\n",
    "\n",
    "# Rename columns\n",
    "customer_features.columns = ['CustomerID', 'TotalSpent', 'AvgSpent', 'TransactionCount', 'UniqueCategories']\n",
    "\n",
    "# Normalize numeric features\n",
    "scaler = StandardScaler()\n",
    "customer_features[['TotalSpent', 'AvgSpent', 'TransactionCount', 'UniqueCategories']] = scaler.fit_transform(\n",
    "    customer_features[['TotalSpent', 'AvgSpent', 'TransactionCount', 'UniqueCategories']]\n",
    ")\n",
    "\n",
    "print(customer_features.head())\n"
   ]
  },
  {
   "cell_type": "markdown",
   "id": "04b5795b",
   "metadata": {},
   "source": [
    "### Step 4: Calculate Customer Similarity"
   ]
  },
  {
   "cell_type": "code",
   "execution_count": 4,
   "id": "b75d0fca",
   "metadata": {},
   "outputs": [
    {
     "name": "stdout",
     "output_type": "stream",
     "text": [
      "CustomerID     C0001     C0002     C0003     C0004     C0005     C0006  \\\n",
      "CustomerID                                                               \n",
      "C0001       1.000000 -0.065564  0.486931 -0.150708 -0.296364 -0.331187   \n",
      "C0002      -0.065564  1.000000  0.433324 -0.575035  0.797674 -0.633090   \n",
      "C0003       0.486931  0.433324  1.000000 -0.934622  0.625790  0.032135   \n",
      "C0004      -0.150708 -0.575035 -0.934622  1.000000 -0.850404 -0.103356   \n",
      "C0005      -0.296364  0.797674  0.625790 -0.850404  1.000000 -0.039935   \n",
      "\n",
      "CustomerID     C0007     C0008     C0009     C0010  ...     C0191     C0192  \\\n",
      "CustomerID                                          ...                       \n",
      "C0001      -0.536088  0.417965  0.143586 -0.013155  ... -0.548415  0.596616   \n",
      "C0002       0.390222 -0.329247  0.974612  0.997953  ...  0.843138  0.745241   \n",
      "C0003       0.465154 -0.558242  0.558997  0.432632  ... -0.040024  0.774123   \n",
      "C0004      -0.731098  0.784207 -0.631651 -0.554825  ... -0.229380 -0.677074   \n",
      "C0005       0.857177 -0.816952  0.746035  0.763064  ...  0.683475  0.522469   \n",
      "\n",
      "CustomerID     C0193     C0194     C0195     C0196     C0197     C0198  \\\n",
      "CustomerID                                                               \n",
      "C0001      -0.821132  0.697725  0.055453 -0.391522 -0.240072  0.049907   \n",
      "C0002       0.583068 -0.444025 -0.608849 -0.685440  0.850704  0.923947   \n",
      "C0003      -0.002338 -0.284730 -0.841582 -0.094602  0.636494  0.723109   \n",
      "C0004      -0.348735  0.601493  0.978533  0.015387 -0.845718 -0.838787   \n",
      "C0005       0.770714 -0.843428 -0.925868 -0.119008  0.994980  0.905564   \n",
      "\n",
      "CustomerID     C0199     C0200  \n",
      "CustomerID                      \n",
      "C0001      -0.113832  0.224117  \n",
      "C0002       0.998247 -0.937709  \n",
      "C0003       0.432384 -0.098803  \n",
      "C0004      -0.591643  0.267441  \n",
      "C0005       0.826799 -0.623101  \n",
      "\n",
      "[5 rows x 199 columns]\n"
     ]
    }
   ],
   "source": [
    "# Compute pairwise cosine similarity\n",
    "similarity_matrix = cosine_similarity(customer_features.iloc[:, 1:])  # Exclude 'CustomerID'\n",
    "similarity_df = pd.DataFrame(similarity_matrix, index=customer_features['CustomerID'], columns=customer_features['CustomerID'])\n",
    "\n",
    "print(similarity_df.head())\n"
   ]
  },
  {
   "cell_type": "markdown",
   "id": "9d06b568",
   "metadata": {},
   "source": [
    "### Step 5: Generate Recommendations"
   ]
  },
  {
   "cell_type": "code",
   "execution_count": 5,
   "id": "22e7fe47",
   "metadata": {},
   "outputs": [
    {
     "name": "stdout",
     "output_type": "stream",
     "text": [
      "  CustomerID SimilarCustomerID  SimilarityScore\n",
      "0      C0001             C0086         0.996560\n",
      "1      C0001             C0189         0.994776\n",
      "2      C0001             C0055         0.993965\n",
      "3      C0002             C0199         0.998247\n",
      "4      C0002             C0010         0.997953\n"
     ]
    }
   ],
   "source": [
    "# Function to get top 3 similar customers\n",
    "def get_top_similar(customers_df, customer_id, top_n=3):\n",
    "    similar_customers = customers_df.loc[customer_id].sort_values(ascending=False)[1:top_n+1]\n",
    "    return list(zip(similar_customers.index, similar_customers.values))\n",
    "\n",
    "# Generate recommendations for first 20 customers\n",
    "lookalike_map = {}\n",
    "for customer_id in customer_features['CustomerID'][:20]:\n",
    "    lookalike_map[customer_id] = get_top_similar(similarity_df, customer_id)\n",
    "\n",
    "# Convert to DataFrame for Lookalike.csv\n",
    "lookalike_data = []\n",
    "for cust_id, similar in lookalike_map.items():\n",
    "    for sim_cust_id, score in similar:\n",
    "        lookalike_data.append([cust_id, sim_cust_id, score])\n",
    "\n",
    "lookalike_df = pd.DataFrame(lookalike_data, columns=['CustomerID', 'SimilarCustomerID', 'SimilarityScore'])\n",
    "print(lookalike_df.head())"
   ]
  },
  {
   "cell_type": "markdown",
   "id": "07cba0db",
   "metadata": {},
   "source": [
    "### Step 6: Save Lookalike Data\n"
   ]
  },
  {
   "cell_type": "code",
   "execution_count": 7,
   "id": "ad750c37",
   "metadata": {},
   "outputs": [],
   "source": [
    "lookalike_df.to_csv('Bushra_Kanoje_Lookalike.csv', index=False)\n"
   ]
  }
 ],
 "metadata": {
  "kernelspec": {
   "display_name": "Python 3 (ipykernel)",
   "language": "python",
   "name": "python3"
  },
  "language_info": {
   "codemirror_mode": {
    "name": "ipython",
    "version": 3
   },
   "file_extension": ".py",
   "mimetype": "text/x-python",
   "name": "python",
   "nbconvert_exporter": "python",
   "pygments_lexer": "ipython3",
   "version": "3.11.5"
  }
 },
 "nbformat": 4,
 "nbformat_minor": 5
}
